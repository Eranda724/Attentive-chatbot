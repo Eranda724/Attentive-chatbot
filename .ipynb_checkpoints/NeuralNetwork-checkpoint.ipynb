{
 "cells": [
  {
   "cell_type": "code",
   "execution_count": 1,
   "id": "c1ed4fff-5c65-4381-90f3-0204417576d5",
   "metadata": {},
   "outputs": [],
   "source": [
    "import tensorflow as tf"
   ]
  },
  {
   "cell_type": "code",
   "execution_count": 2,
   "id": "c3da8a3d-4a75-4a6a-a448-2ff7c2b681f9",
   "metadata": {},
   "outputs": [],
   "source": [
    "mnist = tf.keras.datasets.mnist\n",
    "\n",
    "(x_train , y_train),(x_test , y_test) = mnist.load_data()\n",
    "x_train , x_test = x_train/255.0, x_test/255.0"
   ]
  },
  {
   "cell_type": "code",
   "execution_count": 3,
   "id": "432e7455-7062-439b-9af6-1de7ef643b4d",
   "metadata": {},
   "outputs": [],
   "source": [
    "model = tf.keras.Sequential([tf.keras.layers.Flatten(input_shape = (28,28)),\n",
    "                             tf.keras.layers.Dense(128, activation = \"relu\"),\n",
    "                             tf.keras.layers.Dense(10)])"
   ]
  },
  {
   "cell_type": "code",
   "execution_count": 4,
   "id": "08071f78-1942-435b-8a97-c061b849d12b",
   "metadata": {},
   "outputs": [
    {
     "data": {
      "text/plain": [
       "array([[ 0.05199247,  0.41355968, -0.64074194,  0.10320183, -0.49797404,\n",
       "        -0.15306643,  0.39555457,  0.88014495, -0.14519963,  0.15988384]],\n",
       "      dtype=float32)"
      ]
     },
     "execution_count": 4,
     "metadata": {},
     "output_type": "execute_result"
    }
   ],
   "source": [
    "predictions = model(x_train[:1]).numpy()\n",
    "predictions"
   ]
  },
  {
   "cell_type": "code",
   "execution_count": 5,
   "id": "91af3d1b-4c82-49bd-8938-b5ce33101c62",
   "metadata": {},
   "outputs": [
    {
     "data": {
      "text/plain": [
       "array([[0.09079435, 0.1303423 , 0.04541592, 0.09556497, 0.05238553,\n",
       "        0.07396101, 0.12801649, 0.20783603, 0.07454514, 0.10113825]],\n",
       "      dtype=float32)"
      ]
     },
     "execution_count": 5,
     "metadata": {},
     "output_type": "execute_result"
    }
   ],
   "source": [
    "tf.nn.softmax(predictions).numpy()"
   ]
  },
  {
   "cell_type": "code",
   "execution_count": 6,
   "id": "d2865ae7-0dd1-46b2-896a-748d267e95bc",
   "metadata": {},
   "outputs": [],
   "source": [
    "loss_fun = tf.keras.losses.SparseCategoricalCrossentropy(from_logits=True)"
   ]
  },
  {
   "cell_type": "code",
   "execution_count": 7,
   "id": "3621c431-895d-432f-bc0b-d9121ae7a59c",
   "metadata": {},
   "outputs": [
    {
     "data": {
      "text/plain": [
       "2.604217"
      ]
     },
     "execution_count": 7,
     "metadata": {},
     "output_type": "execute_result"
    }
   ],
   "source": [
    "loss_fun(y_train[:1], predictions).numpy()"
   ]
  },
  {
   "cell_type": "code",
   "execution_count": 8,
   "id": "c8a03fed-01bc-4631-88da-96218d71a86f",
   "metadata": {},
   "outputs": [],
   "source": [
    "model.compile(optimizer=\"adam\",\n",
    "             loss = loss_fun,\n",
    "             metrics = [\"accuracy\"])"
   ]
  },
  {
   "cell_type": "code",
   "execution_count": 9,
   "id": "f1c5a90f-4609-4c36-83e0-98b51c7cae9b",
   "metadata": {},
   "outputs": [
    {
     "name": "stdout",
     "output_type": "stream",
     "text": [
      "Epoch 1/5\n",
      "1875/1875 [==============================] - 2s 1ms/step - loss: 0.2620 - accuracy: 0.9261\n",
      "Epoch 2/5\n",
      "1875/1875 [==============================] - 2s 1ms/step - loss: 0.1142 - accuracy: 0.9664\n",
      "Epoch 3/5\n",
      "1875/1875 [==============================] - 2s 1ms/step - loss: 0.0784 - accuracy: 0.9764\n",
      "Epoch 4/5\n",
      "1875/1875 [==============================] - 2s 1ms/step - loss: 0.0596 - accuracy: 0.9822\n",
      "Epoch 5/5\n",
      "1875/1875 [==============================] - 2s 1ms/step - loss: 0.0460 - accuracy: 0.9857\n"
     ]
    },
    {
     "data": {
      "text/plain": [
       "<keras.callbacks.History at 0x2135050ab00>"
      ]
     },
     "execution_count": 9,
     "metadata": {},
     "output_type": "execute_result"
    }
   ],
   "source": [
    "model.fit(x_train , y_train , epochs=5)"
   ]
  },
  {
   "cell_type": "code",
   "execution_count": 10,
   "id": "ba18bdb0-c009-49ac-9ed8-4d2aeab9d30f",
   "metadata": {},
   "outputs": [
    {
     "name": "stdout",
     "output_type": "stream",
     "text": [
      "313/313 - 1s - loss: 0.0787 - accuracy: 0.9755 - 704ms/epoch - 2ms/step\n"
     ]
    },
    {
     "data": {
      "text/plain": [
       "[0.07865455746650696, 0.9754999876022339]"
      ]
     },
     "execution_count": 10,
     "metadata": {},
     "output_type": "execute_result"
    }
   ],
   "source": [
    "model.evaluate(x_test,y_test,verbose=2)"
   ]
  },
  {
   "cell_type": "code",
   "execution_count": 11,
   "id": "cd79138c-72d8-402d-b4b3-82855236c1f2",
   "metadata": {},
   "outputs": [],
   "source": [
    "probability_model = tf.keras.Sequential([model, \n",
    "                                        tf.keras.layers.Softmax()\n",
    "                                        ])"
   ]
  },
  {
   "cell_type": "code",
   "execution_count": 12,
   "id": "58e5ab0a-9a9b-4693-b656-583f7f7e2820",
   "metadata": {},
   "outputs": [
    {
     "data": {
      "text/plain": [
       "<tf.Tensor: shape=(5, 10), dtype=float32, numpy=\n",
       "array([[1.5924504e-08, 1.4584153e-09, 1.2688328e-06, 1.6540920e-04,\n",
       "        2.0296297e-10, 1.6735148e-08, 4.0567723e-12, 9.9983156e-01,\n",
       "        1.1113078e-06, 4.9849154e-07],\n",
       "       [1.9147667e-08, 2.1336823e-06, 9.9997783e-01, 7.0321967e-06,\n",
       "        5.9095551e-14, 1.2378974e-05, 2.8983475e-08, 1.4287076e-15,\n",
       "        5.9040110e-07, 1.2238870e-13],\n",
       "       [1.8128758e-05, 9.9683654e-01, 8.2190207e-05, 8.7930246e-05,\n",
       "        2.2471127e-04, 1.6440659e-05, 2.0140635e-05, 6.6197402e-04,\n",
       "        2.0271274e-03, 2.4786401e-05],\n",
       "       [9.9994648e-01, 2.7397443e-10, 5.9665667e-06, 3.0877217e-08,\n",
       "        1.7254798e-08, 4.1326680e-06, 3.0337387e-05, 1.2788356e-05,\n",
       "        6.9175661e-09, 2.2744914e-07],\n",
       "       [6.1274086e-08, 3.5273777e-11, 2.7432332e-08, 5.3630433e-09,\n",
       "        9.9801958e-01, 7.4736398e-08, 6.8326720e-08, 9.1761185e-06,\n",
       "        1.4279595e-07, 1.9707140e-03]], dtype=float32)>"
      ]
     },
     "execution_count": 12,
     "metadata": {},
     "output_type": "execute_result"
    }
   ],
   "source": [
    "probability_model(x_test[:5])"
   ]
  },
  {
   "cell_type": "code",
   "execution_count": null,
   "id": "ae7632c7-7743-4a91-92b0-e6cb39eec477",
   "metadata": {},
   "outputs": [],
   "source": []
  },
  {
   "cell_type": "code",
   "execution_count": null,
   "id": "3362e3aa-db4b-4527-bec9-28a259115460",
   "metadata": {},
   "outputs": [],
   "source": []
  }
 ],
 "metadata": {
  "kernelspec": {
   "display_name": "Python 3 (ipykernel)",
   "language": "python",
   "name": "python3"
  },
  "language_info": {
   "codemirror_mode": {
    "name": "ipython",
    "version": 3
   },
   "file_extension": ".py",
   "mimetype": "text/x-python",
   "name": "python",
   "nbconvert_exporter": "python",
   "pygments_lexer": "ipython3",
   "version": "3.10.13"
  }
 },
 "nbformat": 4,
 "nbformat_minor": 5
}
